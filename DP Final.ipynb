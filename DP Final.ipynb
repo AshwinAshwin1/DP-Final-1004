{
 "cells": [
  {
   "cell_type": "code",
   "execution_count": 1,
   "id": "e2d93dcb-76b9-4b7b-a2a8-7dc5919c4c9a",
   "metadata": {},
   "outputs": [],
   "source": [
    "#Importing the libraries (tools) to be used\n",
    "import pandas as pd\n",
    "import warnings\n",
    "import numpy as np\n",
    "import matplotlib\n",
    "import matplotlib.pyplot as plt\n",
    "import seaborn as sns\n",
    "%matplotlib inline\n",
    "\n",
    "sns.set_style('darkgrid')\n",
    "matplotlib.rcParams['font.size'] = 14\n",
    "matplotlib.rcParams['figure.figsize'] = (9, 5)\n",
    "matplotlib.rcParams['figure.facecolor'] = '#00000000'\n",
    "pd.set_option('display.max_rows', None)\n",
    "pd.set_option('display.max_columns', None)\n",
    "\n",
    "\n",
    "warnings.filterwarnings('ignore')"
   ]
  },
  {
   "cell_type": "code",
   "execution_count": 2,
   "id": "10c730af-0c76-4828-bfa7-584fcb06a55e",
   "metadata": {
    "tags": []
   },
   "outputs": [
    {
     "data": {
      "text/html": [
       "<div>\n",
       "<style scoped>\n",
       "    .dataframe tbody tr th:only-of-type {\n",
       "        vertical-align: middle;\n",
       "    }\n",
       "\n",
       "    .dataframe tbody tr th {\n",
       "        vertical-align: top;\n",
       "    }\n",
       "\n",
       "    .dataframe thead th {\n",
       "        text-align: right;\n",
       "    }\n",
       "</style>\n",
       "<table border=\"1\" class=\"dataframe\">\n",
       "  <thead>\n",
       "    <tr style=\"text-align: right;\">\n",
       "      <th></th>\n",
       "      <th>Date</th>\n",
       "      <th>High</th>\n",
       "      <th>Low</th>\n",
       "      <th>Open</th>\n",
       "      <th>Close</th>\n",
       "      <th>Volume</th>\n",
       "      <th>Adj Close</th>\n",
       "      <th>Company</th>\n",
       "    </tr>\n",
       "  </thead>\n",
       "  <tbody>\n",
       "    <tr>\n",
       "      <th>0</th>\n",
       "      <td>2001-01-24</td>\n",
       "      <td>22.3750</td>\n",
       "      <td>19.000000</td>\n",
       "      <td>19.1875</td>\n",
       "      <td>21.8750</td>\n",
       "      <td>13848100</td>\n",
       "      <td>21.8750</td>\n",
       "      <td>Amazon.com, Inc.</td>\n",
       "    </tr>\n",
       "    <tr>\n",
       "      <th>1</th>\n",
       "      <td>2001-01-25</td>\n",
       "      <td>21.7500</td>\n",
       "      <td>19.000000</td>\n",
       "      <td>21.6875</td>\n",
       "      <td>19.0000</td>\n",
       "      <td>7066400</td>\n",
       "      <td>19.0000</td>\n",
       "      <td>Amazon.com, Inc.</td>\n",
       "    </tr>\n",
       "    <tr>\n",
       "      <th>2</th>\n",
       "      <td>2001-01-26</td>\n",
       "      <td>20.5000</td>\n",
       "      <td>18.875000</td>\n",
       "      <td>18.9375</td>\n",
       "      <td>19.5000</td>\n",
       "      <td>5094600</td>\n",
       "      <td>19.5000</td>\n",
       "      <td>Amazon.com, Inc.</td>\n",
       "    </tr>\n",
       "    <tr>\n",
       "      <th>3</th>\n",
       "      <td>2001-01-29</td>\n",
       "      <td>20.7500</td>\n",
       "      <td>18.812500</td>\n",
       "      <td>19.1250</td>\n",
       "      <td>20.1250</td>\n",
       "      <td>7713000</td>\n",
       "      <td>20.1250</td>\n",
       "      <td>Amazon.com, Inc.</td>\n",
       "    </tr>\n",
       "    <tr>\n",
       "      <th>4</th>\n",
       "      <td>2001-01-30</td>\n",
       "      <td>20.6875</td>\n",
       "      <td>18.671875</td>\n",
       "      <td>20.5625</td>\n",
       "      <td>18.9375</td>\n",
       "      <td>12273300</td>\n",
       "      <td>18.9375</td>\n",
       "      <td>Amazon.com, Inc.</td>\n",
       "    </tr>\n",
       "  </tbody>\n",
       "</table>\n",
       "</div>"
      ],
      "text/plain": [
       "        Date     High        Low     Open    Close    Volume  Adj Close  \\\n",
       "0 2001-01-24  22.3750  19.000000  19.1875  21.8750  13848100    21.8750   \n",
       "1 2001-01-25  21.7500  19.000000  21.6875  19.0000   7066400    19.0000   \n",
       "2 2001-01-26  20.5000  18.875000  18.9375  19.5000   5094600    19.5000   \n",
       "3 2001-01-29  20.7500  18.812500  19.1250  20.1250   7713000    20.1250   \n",
       "4 2001-01-30  20.6875  18.671875  20.5625  18.9375  12273300    18.9375   \n",
       "\n",
       "            Company  \n",
       "0  Amazon.com, Inc.  \n",
       "1  Amazon.com, Inc.  \n",
       "2  Amazon.com, Inc.  \n",
       "3  Amazon.com, Inc.  \n",
       "4  Amazon.com, Inc.  "
      ]
     },
     "execution_count": 2,
     "metadata": {},
     "output_type": "execute_result"
    }
   ],
   "source": [
    "Amazon = pd.read_excel (r'C:\\Users\\ashwi\\Downloads\\Amazon.com Inc.stock (1).xlsx')\n",
    "Amazon.head()\n"
   ]
  },
  {
   "cell_type": "code",
   "execution_count": 11,
   "id": "833886bb-8453-4998-8ce0-72e32afb3652",
   "metadata": {},
   "outputs": [
    {
     "data": {
      "text/plain": [
       "(5031, 8)"
      ]
     },
     "execution_count": 11,
     "metadata": {},
     "output_type": "execute_result"
    }
   ],
   "source": [
    "Amazon.shape"
   ]
  },
  {
   "cell_type": "code",
   "execution_count": 22,
   "id": "4d199f82-b501-4ad0-aadf-cc24066ae274",
   "metadata": {
    "tags": []
   },
   "outputs": [
    {
     "data": {
      "text/html": [
       "<div>\n",
       "<style scoped>\n",
       "    .dataframe tbody tr th:only-of-type {\n",
       "        vertical-align: middle;\n",
       "    }\n",
       "\n",
       "    .dataframe tbody tr th {\n",
       "        vertical-align: top;\n",
       "    }\n",
       "\n",
       "    .dataframe thead th {\n",
       "        text-align: right;\n",
       "    }\n",
       "</style>\n",
       "<table border=\"1\" class=\"dataframe\">\n",
       "  <thead>\n",
       "    <tr style=\"text-align: right;\">\n",
       "      <th></th>\n",
       "      <th>Date</th>\n",
       "      <th>High</th>\n",
       "      <th>Low</th>\n",
       "      <th>Open</th>\n",
       "      <th>Close</th>\n",
       "      <th>Volume</th>\n",
       "      <th>Adj Close</th>\n",
       "      <th>Company</th>\n",
       "    </tr>\n",
       "  </thead>\n",
       "  <tbody>\n",
       "    <tr>\n",
       "      <th>0</th>\n",
       "      <td>2001-01-24</td>\n",
       "      <td>22.3750</td>\n",
       "      <td>19.000000</td>\n",
       "      <td>19.1875</td>\n",
       "      <td>21.8750</td>\n",
       "      <td>13848100</td>\n",
       "      <td>21.8750</td>\n",
       "      <td>Amazon.com, Inc.</td>\n",
       "    </tr>\n",
       "    <tr>\n",
       "      <th>1</th>\n",
       "      <td>2001-01-25</td>\n",
       "      <td>21.7500</td>\n",
       "      <td>19.000000</td>\n",
       "      <td>21.6875</td>\n",
       "      <td>19.0000</td>\n",
       "      <td>7066400</td>\n",
       "      <td>19.0000</td>\n",
       "      <td>Amazon.com, Inc.</td>\n",
       "    </tr>\n",
       "    <tr>\n",
       "      <th>2</th>\n",
       "      <td>2001-01-26</td>\n",
       "      <td>20.5000</td>\n",
       "      <td>18.875000</td>\n",
       "      <td>18.9375</td>\n",
       "      <td>19.5000</td>\n",
       "      <td>5094600</td>\n",
       "      <td>19.5000</td>\n",
       "      <td>Amazon.com, Inc.</td>\n",
       "    </tr>\n",
       "    <tr>\n",
       "      <th>3</th>\n",
       "      <td>2001-01-29</td>\n",
       "      <td>20.7500</td>\n",
       "      <td>18.812500</td>\n",
       "      <td>19.1250</td>\n",
       "      <td>20.1250</td>\n",
       "      <td>7713000</td>\n",
       "      <td>20.1250</td>\n",
       "      <td>Amazon.com, Inc.</td>\n",
       "    </tr>\n",
       "    <tr>\n",
       "      <th>4</th>\n",
       "      <td>2001-01-30</td>\n",
       "      <td>20.6875</td>\n",
       "      <td>18.671875</td>\n",
       "      <td>20.5625</td>\n",
       "      <td>18.9375</td>\n",
       "      <td>12273300</td>\n",
       "      <td>18.9375</td>\n",
       "      <td>Amazon.com, Inc.</td>\n",
       "    </tr>\n",
       "  </tbody>\n",
       "</table>\n",
       "</div>"
      ],
      "text/plain": [
       "        Date     High        Low     Open    Close    Volume  Adj Close  \\\n",
       "0 2001-01-24  22.3750  19.000000  19.1875  21.8750  13848100    21.8750   \n",
       "1 2001-01-25  21.7500  19.000000  21.6875  19.0000   7066400    19.0000   \n",
       "2 2001-01-26  20.5000  18.875000  18.9375  19.5000   5094600    19.5000   \n",
       "3 2001-01-29  20.7500  18.812500  19.1250  20.1250   7713000    20.1250   \n",
       "4 2001-01-30  20.6875  18.671875  20.5625  18.9375  12273300    18.9375   \n",
       "\n",
       "            Company  \n",
       "0  Amazon.com, Inc.  \n",
       "1  Amazon.com, Inc.  \n",
       "2  Amazon.com, Inc.  \n",
       "3  Amazon.com, Inc.  \n",
       "4  Amazon.com, Inc.  "
      ]
     },
     "execution_count": 22,
     "metadata": {},
     "output_type": "execute_result"
    }
   ],
   "source": [
    "Amazon1 = Amazon.dropna()\n",
    "Amazon1.head()\n"
   ]
  },
  {
   "cell_type": "code",
   "execution_count": 5,
   "id": "7c07c9f9-9be8-476b-b21c-f0ba39c3183c",
   "metadata": {
    "tags": []
   },
   "outputs": [
    {
     "name": "stdout",
     "output_type": "stream",
     "text": [
      "<class 'pandas.core.frame.DataFrame'>\n",
      "Int64Index: 5031 entries, 0 to 5030\n",
      "Data columns (total 8 columns):\n",
      " #   Column     Non-Null Count  Dtype         \n",
      "---  ------     --------------  -----         \n",
      " 0   Date       5031 non-null   datetime64[ns]\n",
      " 1   High       5031 non-null   float64       \n",
      " 2   Low        5031 non-null   float64       \n",
      " 3   Open       5031 non-null   float64       \n",
      " 4   Close      5031 non-null   float64       \n",
      " 5   Volume     5031 non-null   int64         \n",
      " 6   Adj Close  5031 non-null   float64       \n",
      " 7   Company    5031 non-null   object        \n",
      "dtypes: datetime64[ns](1), float64(5), int64(1), object(1)\n",
      "memory usage: 353.7+ KB\n"
     ]
    }
   ],
   "source": [
    "Amazon1.info()"
   ]
  },
  {
   "cell_type": "code",
   "execution_count": 6,
   "id": "2df5c3cc-9a78-4db6-81e2-47e0ad9e1871",
   "metadata": {
    "tags": []
   },
   "outputs": [
    {
     "data": {
      "text/plain": [
       "104329200"
      ]
     },
     "execution_count": 6,
     "metadata": {},
     "output_type": "execute_result"
    }
   ],
   "source": [
    "Amazon1['Volume'].max()"
   ]
  },
  {
   "cell_type": "code",
   "execution_count": null,
   "id": "bc04942d-d28e-429c-a119-4a37329ba640",
   "metadata": {
    "tags": []
   },
   "outputs": [],
   "source": []
  },
  {
   "cell_type": "code",
   "execution_count": 7,
   "id": "dd390476-6de9-4843-aa7a-a9adb48f2c5a",
   "metadata": {},
   "outputs": [
    {
     "data": {
      "text/html": [
       "<div>\n",
       "<style scoped>\n",
       "    .dataframe tbody tr th:only-of-type {\n",
       "        vertical-align: middle;\n",
       "    }\n",
       "\n",
       "    .dataframe tbody tr th {\n",
       "        vertical-align: top;\n",
       "    }\n",
       "\n",
       "    .dataframe thead th {\n",
       "        text-align: right;\n",
       "    }\n",
       "</style>\n",
       "<table border=\"1\" class=\"dataframe\">\n",
       "  <thead>\n",
       "    <tr style=\"text-align: right;\">\n",
       "      <th></th>\n",
       "      <th>Date</th>\n",
       "      <th>High</th>\n",
       "      <th>Low</th>\n",
       "      <th>Open</th>\n",
       "      <th>Close</th>\n",
       "      <th>Volume</th>\n",
       "      <th>Adj Close</th>\n",
       "      <th>Company</th>\n",
       "    </tr>\n",
       "  </thead>\n",
       "  <tbody>\n",
       "    <tr>\n",
       "      <th>1569</th>\n",
       "      <td>2007-04-25</td>\n",
       "      <td>57.18</td>\n",
       "      <td>52.950001</td>\n",
       "      <td>53.119999</td>\n",
       "      <td>56.810001</td>\n",
       "      <td>104329200</td>\n",
       "      <td>56.810001</td>\n",
       "      <td>Amazon.com, Inc.</td>\n",
       "    </tr>\n",
       "  </tbody>\n",
       "</table>\n",
       "</div>"
      ],
      "text/plain": [
       "           Date   High        Low       Open      Close     Volume  Adj Close  \\\n",
       "1569 2007-04-25  57.18  52.950001  53.119999  56.810001  104329200  56.810001   \n",
       "\n",
       "               Company  \n",
       "1569  Amazon.com, Inc.  "
      ]
     },
     "execution_count": 7,
     "metadata": {},
     "output_type": "execute_result"
    }
   ],
   "source": [
    "Amazon1[Amazon1['Volume']==Amazon1['Volume'].max()]"
   ]
  },
  {
   "cell_type": "code",
   "execution_count": 8,
   "id": "3db67efc-86c9-4c87-af36-5d3c00fb5f68",
   "metadata": {},
   "outputs": [
    {
     "data": {
      "text/html": [
       "<div>\n",
       "<style scoped>\n",
       "    .dataframe tbody tr th:only-of-type {\n",
       "        vertical-align: middle;\n",
       "    }\n",
       "\n",
       "    .dataframe tbody tr th {\n",
       "        vertical-align: top;\n",
       "    }\n",
       "\n",
       "    .dataframe thead th {\n",
       "        text-align: right;\n",
       "    }\n",
       "</style>\n",
       "<table border=\"1\" class=\"dataframe\">\n",
       "  <thead>\n",
       "    <tr style=\"text-align: right;\">\n",
       "      <th></th>\n",
       "      <th>Date</th>\n",
       "      <th>Volume</th>\n",
       "    </tr>\n",
       "  </thead>\n",
       "  <tbody>\n",
       "    <tr>\n",
       "      <th>1569</th>\n",
       "      <td>2007-04-25</td>\n",
       "      <td>104329200</td>\n",
       "    </tr>\n",
       "    <tr>\n",
       "      <th>1382</th>\n",
       "      <td>2006-07-26</td>\n",
       "      <td>76985200</td>\n",
       "    </tr>\n",
       "    <tr>\n",
       "      <th>1570</th>\n",
       "      <td>2007-04-26</td>\n",
       "      <td>62179500</td>\n",
       "    </tr>\n",
       "    <tr>\n",
       "      <th>1011</th>\n",
       "      <td>2005-02-03</td>\n",
       "      <td>60518600</td>\n",
       "    </tr>\n",
       "    <tr>\n",
       "      <th>1632</th>\n",
       "      <td>2007-07-25</td>\n",
       "      <td>60452400</td>\n",
       "    </tr>\n",
       "  </tbody>\n",
       "</table>\n",
       "</div>"
      ],
      "text/plain": [
       "           Date     Volume\n",
       "1569 2007-04-25  104329200\n",
       "1382 2006-07-26   76985200\n",
       "1570 2007-04-26   62179500\n",
       "1011 2005-02-03   60518600\n",
       "1632 2007-07-25   60452400"
      ]
     },
     "execution_count": 8,
     "metadata": {},
     "output_type": "execute_result"
    }
   ],
   "source": [
    "Amazon1.nlargest(n=5, columns=['Volume'])\n",
    "Amazon_graph_data=Amazon1[['Date','Volume']].nlargest(n=5, columns=['Volume'])\n",
    "Amazon_graph_data"
   ]
  },
  {
   "cell_type": "code",
   "execution_count": 10,
   "id": "a4174404-b806-4f1c-a1eb-67bd7d34f018",
   "metadata": {},
   "outputs": [
    {
     "data": {
      "image/png": "[encoded data removed]",
      "text/plain": [
       "<Figure size 1008x576 with 1 Axes>"
      ]
     },
     "metadata": {
      "needs_background": "light"
     },
     "output_type": "display_data"
    }
   ],
   "source": [
    "Plot= Amazon1.groupby(['Date'])['Volume'].mean().sort_values(ascending=False).head(5).plot.bar(title=\"Largest Volume (Top 5) 2001-2021\", figsize=(14,8))\n"
   ]
  },
  {
   "cell_type": "code",
   "execution_count": 11,
   "id": "73c0c70c-5680-4312-ac51-f4888ff2e44b",
   "metadata": {},
   "outputs": [
    {
     "data": {
      "text/html": [
       "<div>\n",
       "<style scoped>\n",
       "    .dataframe tbody tr th:only-of-type {\n",
       "        vertical-align: middle;\n",
       "    }\n",
       "\n",
       "    .dataframe tbody tr th {\n",
       "        vertical-align: top;\n",
       "    }\n",
       "\n",
       "    .dataframe thead th {\n",
       "        text-align: right;\n",
       "    }\n",
       "</style>\n",
       "<table border=\"1\" class=\"dataframe\">\n",
       "  <thead>\n",
       "    <tr style=\"text-align: right;\">\n",
       "      <th></th>\n",
       "      <th>Date</th>\n",
       "      <th>High</th>\n",
       "    </tr>\n",
       "  </thead>\n",
       "  <tbody>\n",
       "    <tr>\n",
       "      <th>4933</th>\n",
       "      <td>2020-09-02</td>\n",
       "      <td>3552.250000</td>\n",
       "    </tr>\n",
       "    <tr>\n",
       "      <th>4932</th>\n",
       "      <td>2020-09-01</td>\n",
       "      <td>3513.870117</td>\n",
       "    </tr>\n",
       "    <tr>\n",
       "      <th>4960</th>\n",
       "      <td>2020-10-12</td>\n",
       "      <td>3496.239990</td>\n",
       "    </tr>\n",
       "    <tr>\n",
       "      <th>4931</th>\n",
       "      <td>2020-08-31</td>\n",
       "      <td>3495.000000</td>\n",
       "    </tr>\n",
       "    <tr>\n",
       "      <th>4961</th>\n",
       "      <td>2020-10-13</td>\n",
       "      <td>3492.379883</td>\n",
       "    </tr>\n",
       "  </tbody>\n",
       "</table>\n",
       "</div>"
      ],
      "text/plain": [
       "           Date         High\n",
       "4933 2020-09-02  3552.250000\n",
       "4932 2020-09-01  3513.870117\n",
       "4960 2020-10-12  3496.239990\n",
       "4931 2020-08-31  3495.000000\n",
       "4961 2020-10-13  3492.379883"
      ]
     },
     "execution_count": 11,
     "metadata": {},
     "output_type": "execute_result"
    }
   ],
   "source": [
    "Amazon1.nlargest(n=5, columns=['High'])\n",
    "Amazon_High_data=Amazon1[['Date','High']].nlargest(n=5, columns=['High'])\n",
    "Amazon_High_data"
   ]
  },
  {
   "cell_type": "code",
   "execution_count": 12,
   "id": "3456082e-9013-4608-a8d7-4a32588a43d8",
   "metadata": {},
   "outputs": [
    {
     "data": {
      "text/plain": [
       "[(3200.0, 3600.0)]"
      ]
     },
     "execution_count": 12,
     "metadata": {},
     "output_type": "execute_result"
    },
    {
     "data": {
      "image/png": "[encoded data removed]",
      "text/plain": [
       "<Figure size 1008x576 with 1 Axes>"
      ]
     },
     "metadata": {
      "needs_background": "light"
     },
     "output_type": "display_data"
    }
   ],
   "source": [
    "Plot= Amazon1.groupby(['Date'])['High'].mean().sort_values(ascending=False).head(10).plot.bar(title = \"Highest Price in 20 Years (Top 10)\", figsize=(14,8))\n",
    "Plot.set(ylim=[3200, 3600])"
   ]
  },
  {
   "cell_type": "code",
   "execution_count": 19,
   "id": "0e2d140a-6e62-4bd6-bc8f-19b5fa63c6fb",
   "metadata": {},
   "outputs": [
    {
     "data": {
      "text/html": [
       "<div>\n",
       "<style scoped>\n",
       "    .dataframe tbody tr th:only-of-type {\n",
       "        vertical-align: middle;\n",
       "    }\n",
       "\n",
       "    .dataframe tbody tr th {\n",
       "        vertical-align: top;\n",
       "    }\n",
       "\n",
       "    .dataframe thead th {\n",
       "        text-align: right;\n",
       "    }\n",
       "</style>\n",
       "<table border=\"1\" class=\"dataframe\">\n",
       "  <thead>\n",
       "    <tr style=\"text-align: right;\">\n",
       "      <th></th>\n",
       "      <th>Date</th>\n",
       "      <th>Low</th>\n",
       "    </tr>\n",
       "  </thead>\n",
       "  <tbody>\n",
       "    <tr>\n",
       "      <th>169</th>\n",
       "      <td>2001-10-01</td>\n",
       "      <td>5.51</td>\n",
       "    </tr>\n",
       "    <tr>\n",
       "      <th>167</th>\n",
       "      <td>2001-09-27</td>\n",
       "      <td>5.67</td>\n",
       "    </tr>\n",
       "    <tr>\n",
       "      <th>168</th>\n",
       "      <td>2001-09-28</td>\n",
       "      <td>5.83</td>\n",
       "    </tr>\n",
       "    <tr>\n",
       "      <th>170</th>\n",
       "      <td>2001-10-02</td>\n",
       "      <td>5.95</td>\n",
       "    </tr>\n",
       "    <tr>\n",
       "      <th>166</th>\n",
       "      <td>2001-09-26</td>\n",
       "      <td>6.00</td>\n",
       "    </tr>\n",
       "  </tbody>\n",
       "</table>\n",
       "</div>"
      ],
      "text/plain": [
       "          Date   Low\n",
       "169 2001-10-01  5.51\n",
       "167 2001-09-27  5.67\n",
       "168 2001-09-28  5.83\n",
       "170 2001-10-02  5.95\n",
       "166 2001-09-26  6.00"
      ]
     },
     "execution_count": 19,
     "metadata": {},
     "output_type": "execute_result"
    }
   ],
   "source": [
    "Amazon1.nsmallest(n=5, columns=['Low'])\n",
    "Amazon_Low_data=Amazon1[['Date','Low']].nsmallest(n=5, columns=['Low'])\n",
    "Amazon_Low_data"
   ]
  },
  {
   "cell_type": "code",
   "execution_count": 21,
   "id": "809acf08-03bf-4bdb-8554-f26e2feb7c4a",
   "metadata": {},
   "outputs": [
    {
     "data": {
      "image/png": "[encoded data removed]",
      "text/plain": [
       "<Figure size 1008x576 with 1 Axes>"
      ]
     },
     "metadata": {
      "needs_background": "light"
     },
     "output_type": "display_data"
    }
   ],
   "source": [
    "Plot= Amazon1.groupby(['Date'])['Low'].mean().sort_values(ascending=True).head(10).plot.bar(title = \"Lowest Price in 20 Years (Least 10)\", figsize=(14,8))\n",
    "\n"
   ]
  },
  {
   "cell_type": "code",
   "execution_count": null,
   "id": "fbc9104d-b37e-49f2-9e8c-80159511710e",
   "metadata": {},
   "outputs": [],
   "source": []
  }
 ],
 "metadata": {
  "kernelspec": {
   "display_name": "Python 3 (ipykernel)",
   "language": "python",
   "name": "python3"
  },
  "language_info": {
   "codemirror_mode": {
    "name": "ipython",
    "version": 3
   },
   "file_extension": ".py",
   "mimetype": "text/x-python",
   "name": "python",
   "nbconvert_exporter": "python",
   "pygments_lexer": "ipython3",
   "version": "3.9.7"
  }
 },
 "nbformat": 4,
 "nbformat_minor": 5
}
